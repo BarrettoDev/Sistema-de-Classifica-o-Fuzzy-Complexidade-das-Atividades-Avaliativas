{
  "cells": [
    {
      "cell_type": "markdown",
      "metadata": {
        "id": "view-in-github",
        "colab_type": "text"
      },
      "source": [
        "<a href=\"https://colab.research.google.com/github/BarrettoDev/Sistema-de-Classifica-o-Fuzzy-Complexidade-das-Atividades-Avaliativas/blob/main/Sistema_de_Classifica%C3%A7%C3%A3o_Fuzzy_Complexidade_das_Atividades_Avaliativas.ipynb\" target=\"_parent\"><img src=\"https://colab.research.google.com/assets/colab-badge.svg\" alt=\"Open In Colab\"/></a>"
      ]
    },
    {
      "cell_type": "code",
      "execution_count": null,
      "metadata": {
        "id": "Pn2lxGApXa2n"
      },
      "outputs": [],
      "source": [
        "# Instalação da biblioteca scikit-fuzzy\n",
        "\n",
        "!pip install scikit-fuzzy"
      ]
    },
    {
      "cell_type": "code",
      "execution_count": null,
      "metadata": {
        "id": "Tpkb4cxLjxWO"
      },
      "outputs": [],
      "source": [
        "# Se conectando ao drive\n",
        "\n",
        "from google.colab import drive\n",
        "drive.mount('/content/drive')\n",
        "\n",
        "# Importando as bibliotecas\n",
        "\n",
        "import numpy as np\n",
        "import skfuzzy as fuzz\n",
        "from skfuzzy import control as ctrl\n",
        "import pandas as pd\n",
        "import matplotlib.pyplot as plt\n",
        "import seaborn as sns\n",
        "\n",
        "# Importando os dados\n",
        "\n",
        "dados = pd.read_csv('/content/drive/MyDrive/TCC/TCC - Denilson - Funções de pertinência - Página2.csv')\n",
        "dados.head()\n",
        "\n",
        "#  Frequencia média\n",
        "\n",
        "freq_original = dados['Intervalo'].values\n",
        "sns.kdeplot(freq_original)\n",
        "plt.xlabel('Frequencia Média')\n",
        "plt.ylabel('Distribuição')"
      ]
    },
    {
      "cell_type": "code",
      "execution_count": null,
      "metadata": {
        "id": "IcQ6J2m7jzhe"
      },
      "outputs": [],
      "source": [
        "#Normalizando os dados\n",
        "\n",
        "from sklearn.preprocessing import MinMaxScaler\n",
        "\n",
        "dados_normalizados = pd.DataFrame(dados['Intervalo'])\n",
        "\n",
        "def minmax_norm(df_input):\n",
        "  return (dados_normalizados - dados_normalizados.min()) / (dados_normalizados.max() - dados_normalizados.min())\n",
        "\n",
        "dm_minmax = minmax_norm(dados_normalizados)\n",
        "\n",
        "dm_minmax.head(100)"
      ]
    },
    {
      "cell_type": "code",
      "execution_count": null,
      "metadata": {
        "id": "kekkdfBekE8H"
      },
      "outputs": [],
      "source": [
        "# Criando as variaveis\n",
        "\n",
        "nota = ctrl.Antecedent(np.array([0, 0.1, 0.2, 0.25, 0.3, 0.4, 0.5]), 'Função de pertinencia das notas')\n",
        "\n",
        "tempo = ctrl.Antecedent(np.arange(0, 1.1, 0.1), 'Função de pertinencia do tempo ultilizado')\n",
        "\n",
        "complexidade = ctrl.Consequent(np.arange(0, 1.1, 0.1), 'Complexibilidade')"
      ]
    },
    {
      "cell_type": "code",
      "execution_count": null,
      "metadata": {
        "id": "aIjmrkuXwE0T"
      },
      "outputs": [],
      "source": [
        "# Criando as funções de pertinência\n",
        "\n",
        "nota['Insatisfatório'] = fuzz.trapmf(nota.universe, [0,0,0.1,0.2]) #trapezoidal\n",
        "nota['Regular'] = fuzz.trimf(nota.universe, [0.1,0.25,0.4]) #triangular\n",
        "nota['Satisfatório'] = fuzz.trapmf(nota.universe, [0.3,0.4,0.5,0.5]) #trapezoidal\n",
        "\n",
        "tempo['Baixo'] = fuzz.trapmf(tempo.universe,[0,0,0.3,0.4]) #trapezoidal\n",
        "tempo['Medio'] = fuzz.trimf(tempo.universe, [0.3,0.5,0.7]) #triangular\n",
        "tempo['Alto']=fuzz.trapmf(tempo.universe, [0.6,0.7, 1, 1]) #trapezoidal\n",
        "\n",
        "complexidade['Baixa'] = fuzz.trimf(complexidade.universe,[0,0,0.5]) #triangular\n",
        "complexidade['Media'] = fuzz.trimf(complexidade.universe, [0,0.5,1]) #triangular\n",
        "complexidade['Alta'] = fuzz.trapmf(complexidade.universe, [0.6,0.8, 1, 1]) #trapezoidal"
      ]
    },
    {
      "cell_type": "code",
      "execution_count": null,
      "metadata": {
        "id": "Sb5r12tuwG6p"
      },
      "outputs": [],
      "source": [
        "#Visualizando as funções de pertinências criadas\n",
        "\n",
        "nota.view()\n",
        "tempo.view()\n",
        "complexidade.view()"
      ]
    },
    {
      "cell_type": "code",
      "execution_count": null,
      "metadata": {
        "id": "8cDwyoPfwJOB"
      },
      "outputs": [],
      "source": [
        "# Criando as regras Fuzzy e aplicando ao simulador\n",
        "\n",
        "regra1 = ctrl.Rule(nota['Insatisfatório'], complexidade['Alta'])\n",
        "regra2 = ctrl.Rule(nota['Regular'] & tempo['Baixo'], complexidade['Baixa'])\n",
        "regra3 = ctrl.Rule(nota['Regular'] & tempo['Medio'], complexidade['Alta'])\n",
        "regra4 = ctrl.Rule(nota['Regular'] & tempo['Alto'], complexidade['Alta'])\n",
        "regra5 = ctrl.Rule(nota['Satisfatório'] & tempo['Baixo'], complexidade['Baixa'])\n",
        "regra6 = ctrl.Rule(nota['Satisfatório'] & tempo['Medio'], complexidade['Media'])\n",
        "regra7 = ctrl.Rule(nota['Satisfatório'] & tempo['Alto'], complexidade['Alta'])\n",
        "\n",
        "complexidade_ctrl = ctrl.ControlSystem([regra1, regra2, regra3, regra4,\n",
        "                                        regra5, regra6, regra7])\n",
        "\n",
        "simulador = ctrl.ControlSystemSimulation(complexidade_ctrl)"
      ]
    },
    {
      "cell_type": "code",
      "execution_count": null,
      "metadata": {
        "id": "NoNiSAK0wPyR"
      },
      "outputs": [],
      "source": [
        "# Entrada de valores da Pontuação e Tempo\n",
        "\n",
        "valor_nota = 0.5\n",
        "valor_tempo = 0\n",
        "simulador.input['Função de pertinencia das notas'] = valor_nota\n",
        "simulador.input['Função de pertinencia do tempo ultilizado'] = valor_tempo\n",
        "\n",
        "# Computando o resultado\n",
        "\n",
        "simulador.compute()\n",
        "simulador.output['Complexibilidade']"
      ]
    },
    {
      "cell_type": "code",
      "execution_count": null,
      "metadata": {
        "id": "nRNAHb9twUBR"
      },
      "outputs": [],
      "source": [
        "# Verificação do nivel de pertinências das funções\n",
        "\n",
        "RESULT= simulador.input['Função de pertinencia das notas'] = valor_nota\n",
        "print(\"Pertinencia da nota INSATISFATÓRIO: \\t\" + str(fuzz.interp_membership(nota.universe, nota['Insatisfatório'].mf, RESULT)))\n",
        "print(\"Pertinencia da nota REGULAR: \\t\" + str(fuzz.interp_membership(nota.universe, nota['Regular'].mf, RESULT)))\n",
        "print(\"Pertinencia da nota SATISFATÓRIO: \\t\" + str(fuzz.interp_membership(nota.universe, nota['Satisfatório'].mf, RESULT)))\n",
        "\n",
        "RESULT= simulador.input['Função de pertinencia do tempo ultilizado'] = valor_tempo\n",
        "print(\"\\nPertinencia do tempo BAIXO: \\t\" + str(fuzz.interp_membership(tempo.universe, tempo['Baixo'].mf, RESULT)))\n",
        "print(\"Pertinencia do tempo MEDIO: \\t\" + str(fuzz.interp_membership(tempo.universe, tempo['Medio'].mf, RESULT)))\n",
        "print(\"Pertinencia do tempo ALTO: \\t\" + str(fuzz.interp_membership(tempo.universe, tempo['Alto'].mf, RESULT)))\n",
        "\n",
        "RESULT= simulador.output['Complexibilidade']\n",
        "print(\"\\nPertinencia da complexipilidade BAIXA: \\t\" + str(fuzz.interp_membership(complexidade.universe, complexidade['Baixa'].mf, RESULT)))\n",
        "print(\"Pertinencia da complexipilidade MEDIA: \\t\" + str(fuzz.interp_membership(complexidade.universe, complexidade['Media'].mf, RESULT)))\n",
        "print(\"Pertinencia da complexipilidade ALTA: \\t\" + str(fuzz.interp_membership(complexidade.universe, complexidade['Alta'].mf, RESULT)))\n"
      ]
    },
    {
      "cell_type": "code",
      "execution_count": null,
      "metadata": {
        "id": "T3zN4hF-T-_a"
      },
      "outputs": [],
      "source": [
        "# Graficos da simulação\n",
        "\n",
        "nota.view(sim=simulador)\n",
        "tempo.view(sim=simulador)\n",
        "complexidade.view(sim=simulador)"
      ]
    }
  ],
  "metadata": {
    "colab": {
      "provenance": [],
      "authorship_tag": "ABX9TyM6EE4wtqPXXlRXfRk0wk7z",
      "include_colab_link": true
    },
    "kernelspec": {
      "display_name": "Python 3",
      "name": "python3"
    },
    "language_info": {
      "name": "python"
    }
  },
  "nbformat": 4,
  "nbformat_minor": 0
}